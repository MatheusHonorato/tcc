{
 "cells": [
  {
   "cell_type": "markdown",
   "metadata": {},
   "source": [
    "# Avaliação docente em fuzzy\n",
    "---\n",
    "### Autor: Matheus Felipe Paixão Honorato\n",
    "matheuspaixaohonorato@gmail.com\n",
    "### Sistema desenvolvido para trabalho de conclusão de curso - Sistemas de Informação | Unimontes\n",
    "### Objetivo: avaliar docentes do centro de educação a distância da Unimontes por meio da lógica fuzzy"
   ]
  },
  {
   "cell_type": "code",
   "execution_count": 58,
   "metadata": {},
   "outputs": [],
   "source": [
    "import numpy as np\n",
    "import matplotlib.pyplot as plt"
   ]
  },
  {
   "cell_type": "code",
   "execution_count": 59,
   "metadata": {},
   "outputs": [],
   "source": [
    "#passo utilizado para gerar universo de discurso\n",
    "\n",
    "passo = 0.001\n",
    "\n",
    "#os parametros utilizados definem funcoes triangulares\n",
    "\n",
    "#parametros das variáveis de entrada - funcões iguais para todas as variáveis de entrada por isso definidas somente uma vez\n",
    "\n",
    "variaveis_de_entrada = [\n",
    "    [1, 2, 3.5],\n",
    "    [3, 3.5, 4],\n",
    "    [3.5, 5, 5.1] # triangulo-retangulo\n",
    "]\n",
    "\n",
    "variavel_de_saida = [\n",
    "    [5, 10, 15],\n",
    "    [7, 15, 30],\n",
    "    [17, 25, 30]\n",
    "]\n",
    "\n",
    "#base de regras\n",
    "\n",
    "#constantes entradas = BAIXO, MEDIO, ALTO\n",
    "\n",
    "BAIXO = 'baixo'\n",
    "MEDIO = 'medio'\n",
    "ALTO = 'alto'\n",
    "\n",
    "#constantes saída = BAIXA, MEDIA, ALTA\n",
    "\n",
    "BAIXA = 'baixa'\n",
    "MEDIA = 'media'\n",
    "ALTA = 'alta'\n",
    "\n",
    "#antecedente, antecedente, antecedente, consequente\n",
    "#cada coluna é uma questao ex: col1 = questao_um, col2 = questao_dois - obs: ultima coluna igual consequente\n",
    "\n",
    "regras_dimensao_video_aulas = [\n",
    "    [BAIXO, BAIXO, BAIXO, BAIXO, BAIXA],\n",
    "    [BAIXO, BAIXO, BAIXO, MEDIO, BAIXA],\n",
    "    [BAIXO, BAIXO, MEDIO, MEDIO, BAIXA],\n",
    "    [MEDIO, BAIXO, BAIXO, BAIXO, BAIXA],\n",
    "    [BAIXO, MEDIO, BAIXO, BAIXO, BAIXA],\n",
    "    [BAIXO, BAIXO, MEDIO, MEDIO, BAIXA],\n",
    "    [MEDIO, MEDIO, BAIXO, BAIXO, MEDIA],\n",
    "    [MEDIO, MEDIO, BAIXO, MEDIO, MEDIA],\n",
    "    [BAIXO, MEDIO, MEDIO, MEDIO, MEDIA],\n",
    "    [MEDIO, MEDIO, ALTO, BAIXO, MEDIA],\n",
    "    [BAIXO, MEDIO, ALTO, MEDIO, MEDIA],\n",
    "    [ALTO, BAIXO, MEDIO, MEDIO, MEDIA],\n",
    "    [BAIXO, ALTO, MEDIO, BAIXO, MEDIA],\n",
    "    [ALTO, ALTO, ALTO, ALTO, ALTA],\n",
    "    [ALTO, ALTO, ALTO, MEDIO, ALTA],\n",
    "    [ALTO, ALTO, MEDIO, ALTO, ALTA],\n",
    "    [ALTO, MEDIO, ALTO, ALTO, ALTA],\n",
    "    [MEDIO, ALTO, ALTO, ALTO, ALTA],\n",
    "    [ALTO, ALTO, MEDIO, MEDIO, ALTA],\n",
    "    [MEDIO, MEDIO, ALTO, ALTO, MEDIA],\n",
    "    [ALTO, BAIXO, BAIXO, MEDIO, MEDIA],\n",
    "    [MEDIO, ALTO, BAIXO, MEDIO, MEDIA],\n",
    "    [ALTO, MEDIO, MEDIO, BAIXO, MEDIA],\n",
    "    [MEDIO, MEDIO, ALTO, ALTO, MEDIA],\n",
    "    [ALTO, MEDIO, BAIXO, MEDIO, MEDIA],\n",
    "    [MEDIO, MEDIO, MEDIO, MEDIO, MEDIA]\n",
    "]\n",
    "\n",
    "regras_dimensao_atividades_colaborativas = [\n",
    "    [BAIXO, BAIXO, BAIXO, BAIXA],\n",
    "    [BAIXO, BAIXO, MEDIO, BAIXA]\n",
    "]\n",
    "\n",
    "regras_dimensao_atividades_individuais = [\n",
    "    [BAIXO, BAIXO, BAIXO, BAIXA],\n",
    "    [BAIXO, BAIXO, MEDIO, BAIXA]\n",
    "]\n",
    "\n",
    "regras_dimensao_foruns_de_discussao = [\n",
    "    [BAIXO, BAIXO, BAIXO, BAIXA],\n",
    "    [BAIXO, BAIXO, MEDIO, BAIXA]\n",
    "]\n",
    "\n",
    "regras_dimensao_webinars = [\n",
    "    [BAIXO, BAIXO, BAIXO, BAIXA],\n",
    "    [BAIXO, BAIXO, MEDIO, BAIXO]\n",
    "]\n",
    "\n",
    "regras_dimensao_avaliacoes_presenciais = [\n",
    "    [BAIXO, BAIXO, BAIXO, BAIXA],\n",
    "    [BAIXO, BAIXO, MEDIO, BAIXA]\n",
    "]\n",
    "\n",
    "regras_dimensao_salas_virtuais = [\n",
    "    [BAIXO, BAIXO, BAIXO, BAIXA, BAIXA, BAIXA],\n",
    "    [BAIXO, BAIXO, MEDIO, BAIXA, MEDIA, BAIXA]\n",
    "]\n",
    "\n",
    "#cada coluna é a entrada de uma variavel - para as entradas é feito \n",
    "#um pré-processamento onde são calculadas as médias ponderadas das respostas\n",
    "#dos alunos em cada questão daquela dimensao\n",
    "\n",
    "valores_de_entrada_questoes_dimensao_video_aulas = [2,  3.5] \n",
    "valores_de_entrada_questoes_dimensao_atividades_colaborativas = [5, 3, 7, 5] \n",
    "valores_de_entrada_questoes_dimensao_atividades_individuais = [5, 3, 7, 5] \n",
    "valores_de_entrada_questoes_dimensao_foruns_de_discussao = [5, 3, 7, 5] \n",
    "valores_de_entrada_questoes_dimensao_webinars = [5, 3, 7, 5] \n",
    "valores_de_entrada_questoes_dimensao_avaliacoes_presenciais = [5, 3, 7, 5] \n",
    "valores_de_entrada_questoes_dimensao_salas_virtuais = [5, 3, 7, 5, 8, 9]          "
   ]
  },
  {
   "cell_type": "code",
   "execution_count": 64,
   "metadata": {},
   "outputs": [],
   "source": [
    "def retornar_parametros(variavel, funcao):\n",
    "    #zero == variavel de entrada um == variavel de saida\n",
    "    if(variavel=='entrada'):\n",
    "        if(funcao=='baixo'):\n",
    "            return variaveis_de_entrada[0]\n",
    "        if(funcao=='medio'):\n",
    "            return variaveis_de_entrada[1]\n",
    "        if(funcao=='alto'):\n",
    "            return variaveis_de_entrada[2]\n",
    "    if(variavel=='saida'):\n",
    "        if(funcao=='baixa'):\n",
    "            return variavel_de_saida[0]\n",
    "        if(funcao=='media'):\n",
    "            return variavel_de_saida[1]\n",
    "        if(funcao=='alta'):\n",
    "            return variavel_de_saida[2]"
   ]
  },
  {
   "cell_type": "code",
   "execution_count": 71,
   "metadata": {},
   "outputs": [
    {
     "name": "stdout",
     "output_type": "stream",
     "text": [
      "3.5\n"
     ]
    }
   ],
   "source": [
    "#geranado lista de valores eixo x das variaveis de entrada\n",
    "\n",
    "intervalo_entrada_baixo = retornar_parametros('entrada','baixo')\n",
    "intervalo_entrada_medio = retornar_parametros('entrada','medio')\n",
    "intervalo_entrada_alto = retornar_parametros('entrada','alto')\n",
    "\n",
    "valores_eixo_x_variaveis_de_entrada_funcao_baixo = np.arange(intervalo_entrada_baixo[0], intervalo_entrada_baixo[-1], passo)\n",
    "valores_eixo_x_variaveis_de_entrada_funcao_medio = np.arange(intervalo_entrada_medio[0], intervalo_entrada_medio[-1], passo)\n",
    "valores_eixo_x_variaveis_de_entrada_funcao_alto = np.arange(intervalo_entrada_alto[0], intervalo_entrada_alto[-1], passo)\n",
    "\n",
    "#geranado lista de valores eixo x das variavel de saída\n",
    "\n",
    "intervalo_saida_baixo = retornar_parametros('saida','baixa')\n",
    "intervalo_saida_medio = retornar_parametros('saida','media')\n",
    "intervalo_saida_alto = retornar_parametros('saida','alta')\n",
    "\n",
    "valores_eixo_x_variavel_de_saida_funcao_baixo = np.arange(intervalo_saida_baixo[0], intervalo_saida_baixo[-1], passo)\n",
    "valores_eixo_x_variavel_de_saida_funcao_medio = np.arange(intervalo_saida_medio[0], intervalo_saida_medio[-1], passo)\n",
    "valores_eixo_x_variavel_de_saida_funcao_alto = np.arange(intervalo_saida_alto[0], intervalo_saida_alto[-1], passo)"
   ]
  },
  {
   "cell_type": "code",
   "execution_count": 67,
   "metadata": {},
   "outputs": [],
   "source": [
    "#definição da função de pertinência triangular\n",
    "\n",
    "def triangular(x, parametros):\n",
    "    resultado = 0\n",
    "    a = parametros[0]\n",
    "    b = parametros[1]\n",
    "    c = parametros[2]\n",
    "    \n",
    "    resultado = max(min((x-a)/(b-a),(c-x)/(c-b)), 0)\n",
    "    return resultado"
   ]
  },
  {
   "cell_type": "code",
   "execution_count": 68,
   "metadata": {},
   "outputs": [],
   "source": [
    "def trapezoidal(x, parametros):\n",
    "    resultado = 0\n",
    "    a = parametros[0]\n",
    "    b = parametros[1]\n",
    "    c = parametros[2]\n",
    "    d = parametros[3]\n",
    "\n",
    "    resultado = max(min((x-a)/(b-a),1,(d-x)/(d-c)),0)\n",
    "    return resultado"
   ]
  },
  {
   "cell_type": "code",
   "execution_count": 73,
   "metadata": {},
   "outputs": [
    {
     "name": "stdout",
     "output_type": "stream",
     "text": [
      "[0, 5, 10]\n"
     ]
    },
    {
     "data": {
      "text/plain": [
       "Text(0.5,1,'Variável de entrada')"
      ]
     },
     "execution_count": 73,
     "metadata": {},
     "output_type": "execute_result"
    },
    {
     "data": {
      "image/png": "[encoded data removed]",
      "text/plain": [
       "<Figure size 1080x504 with 1 Axes>"
      ]
     },
     "metadata": {},
     "output_type": "display_data"
    }
   ],
   "source": [
    "#listas de pertinencias variáveis de entrada \n",
    "\n",
    "valores_eixo_y_variaveis_de_entrada_funcao_baixo = []\n",
    "valores_eixo_y_variaveis_de_entrada_funcao_medio = []\n",
    "valores_eixo_y_variaveis_de_entrada_funcao_alto = []\n",
    "\n",
    "#plotando gráfico variáveis de entrada\n",
    "\n",
    "plt.figure(figsize=(15,7))\n",
    "\n",
    "#inserindo valores em listas de pertinencia de variáveis de entrada\n",
    "\n",
    "for x_atual in valores_eixo_x_variaveis_de_entrada_funcao_baixo:\n",
    "    if(len(parametros_funcao_entrada_baixo) == 3):\n",
    "        valores_eixo_y_variaveis_de_entrada_funcao_baixo.append(triangular(x_atual, parametros_funcao_entrada_baixo))\n",
    "    if(len(parametros_funcao_entrada_baixo) == 4):\n",
    "        valores_eixo_y_variaveis_de_entrada_funcao_baixo.append(trapezoidal(x_atual, parametros_funcao_entrada_baixo))\n",
    "\n",
    "plt.plot(valores_eixo_x_variaveis_de_entrada_funcao_baixo, valores_eixo_y_variaveis_de_entrada_funcao_baixo)\n",
    "    \n",
    "for x_atual in valores_eixo_x_variaveis_de_entrada_funcao_medio:\n",
    "    if(len(parametros_funcao_entrada_medio) == 3):\n",
    "        valores_eixo_y_variaveis_de_entrada_funcao_medio.append(triangular(x_atual, parametros_funcao_entrada_medio))\n",
    "    if(len(parametros_funcao_entrada_medio) == 4):\n",
    "        valores_eixo_y_variaveis_de_entrada_funcao_medio.append(trapezoidal(x_atual, parametros_funcao_entrada_medio))\n",
    "\n",
    "plt.plot(valores_eixo_x_variaveis_de_entrada_funcao_medio, valores_eixo_y_variaveis_de_entrada_funcao_medio)\n",
    "    \n",
    "for x_atual in valores_eixo_x_variaveis_de_entrada_funcao_alto:\n",
    "    if(len(parametros_funcao_entrada_alto) == 3):\n",
    "        valores_eixo_y_variaveis_de_entrada_funcao_alto.append(triangular(x_atual, parametros_funcao_entrada_alto))\n",
    "    if(len(parametros_funcao_entrada_alto) == 4):\n",
    "        valores_eixo_y_variaveis_de_entrada_funcao_alto.append(trapezoidal(x_atual, parametros_funcao_entrada_alto))\n",
    "    \n",
    "plt.plot(valores_eixo_x_variaveis_de_entrada_funcao_alto, valores_eixo_y_variaveis_de_entrada_funcao_alto)\n",
    "\n",
    "plt.xlabel(\"valor\")\n",
    "plt.ylabel(\"Pertinência\")\n",
    "plt.title(\"Variável de entrada\")"
   ]
  },
  {
   "cell_type": "code",
   "execution_count": 49,
   "metadata": {},
   "outputs": [
    {
     "data": {
      "text/plain": [
       "Text(0.5,1,'Variável de saída')"
      ]
     },
     "execution_count": 49,
     "metadata": {},
     "output_type": "execute_result"
    },
    {
     "data": {
      "image/png": "[encoded data removed]",
      "text/plain": [
       "<Figure size 1080x504 with 1 Axes>"
      ]
     },
     "metadata": {},
     "output_type": "display_data"
    }
   ],
   "source": [
    "#lista de pertinencias variável de saída \n",
    "\n",
    "valores_eixo_y_variavel_de_saida_funcao_baixo = []\n",
    "valores_eixo_y_variavel_de_saida_funcao_medio = []\n",
    "valores_eixo_y_variavel_de_saida_funcao_alto = []\n",
    "\n",
    "#plotando gráfico variáveis de entrada\n",
    "\n",
    "plt.figure(figsize=(15,7))\n",
    "\n",
    "#inserindo valores em listas de pertinencia de variável de saida\n",
    "\n",
    "for x_atual in valores_eixo_x_variavel_de_saida_funcao_baixo:\n",
    "    valores_eixo_y_variavel_de_saida_funcao_baixo.append(triangular(x_atual, parametros_funcao_saida_baixo))\n",
    "    \n",
    "plt.plot(valores_eixo_x_variavel_de_saida_funcao_baixo, valores_eixo_y_variavel_de_saida_funcao_baixo)\n",
    "\n",
    "for x_atual in valores_eixo_x_variavel_de_saida_funcao_medio:\n",
    "    valores_eixo_y_variavel_de_saida_funcao_medio.append(triangular(x_atual, parametros_funcao_saida_medio))\n",
    "    \n",
    "plt.plot(valores_eixo_x_variavel_de_saida_funcao_medio, valores_eixo_y_variavel_de_saida_funcao_medio)\n",
    "\n",
    "for x_atual in valores_eixo_x_variavel_de_saida_funcao_alto:\n",
    "    valores_eixo_y_variavel_de_saida_funcao_alto.append(triangular(x_atual, parametros_funcao_saida_alto))\n",
    "\n",
    "plt.plot(valores_eixo_x_variavel_de_saida_funcao_alto, valores_eixo_y_variavel_de_saida_funcao_alto)\n",
    "\n",
    "plt.xlabel(\"valor\")\n",
    "plt.ylabel(\"Pertinência\")\n",
    "plt.title(\"Variável de saída\")"
   ]
  },
  {
   "cell_type": "code",
   "execution_count": 50,
   "metadata": {},
   "outputs": [],
   "source": [
    "def gerar_pertinencias_regra(regra, entradas):\n",
    "    resultado_regra = []\n",
    "    for index, coluna in enumerate(regra):\n",
    "        if(coluna == 'baixo'):\n",
    "            pertinencia_na_funcao = triangular(entradas[index], retornar_parametros('entrada', 'baixo'))\n",
    "            resultado_regra.append(pertinencia_na_funcao)\n",
    "        if(coluna == 'medio'):\n",
    "            pertinencia_na_funcao = triangular(entradas[index], retornar_parametros('entrada', 'medio'))\n",
    "            resultado_regra.append(pertinencia_na_funcao)\n",
    "        if(coluna == 'alto'):\n",
    "            pertinencia_na_funcao = triangular(entradas[index], retornar_parametros('entrada', 'alto'))\n",
    "            resultado_regra.append(pertinencia_na_funcao)\n",
    "    return resultado_regra"
   ]
  },
  {
   "cell_type": "code",
   "execution_count": 51,
   "metadata": {},
   "outputs": [],
   "source": [
    "def gerar_matriz_de_pertinencias_regras(regras, entradas):\n",
    "    resultado_regras = []\n",
    "    for regra_atual in regras:\n",
    "        resultado_regra = gerar_pertinencias_regra(regra_atual, entradas)\n",
    "        resultado_regras.append(resultado_regra)\n",
    "    return resultado_regras"
   ]
  },
  {
   "cell_type": "code",
   "execution_count": 52,
   "metadata": {},
   "outputs": [],
   "source": [
    "#metodo de inferencia = mamdani | MIN\n",
    "def inferencia(regras, entradas):\n",
    "    \n",
    "    matriz_de_pertinencias_regras = []\n",
    "    pertinencias_consequente = []\n",
    "    pertinencias_funcao_baixa = []\n",
    "    pertinencias_funcao_media = []\n",
    "    pertinencias_funcao_alta = []\n",
    "    resultado = []\n",
    "    \n",
    "    matriz_de_pertinencias_regras = gerar_matriz_de_pertinencias_regras(regras, entradas)\n",
    "                \n",
    "    for linha_atual in matriz_de_pertinencias_regras:\n",
    "        pertinencias_consequente.append(min(linha_atual))\n",
    "                \n",
    "    for index, pertinencia_atual in enumerate(pertinencias_consequente):\n",
    "        if(regras[index][-1] == 'baixa'):\n",
    "            pertinencias_funcao_baixa.append(pertinencia_atual)\n",
    "        if(regras[index][-1] == 'media'):\n",
    "            pertinencias_funcao_media.append(pertinencia_atual)\n",
    "        if(regras[index][-1] == 'alta'):\n",
    "            pertinencias_funcao_alta.append(pertinencia_atual)\n",
    "\n",
    "    resultado = [max(pertinencias_funcao_baixa),max(pertinencias_funcao_media),max(pertinencias_funcao_alta)]\n",
    "    \n",
    "    return resultado"
   ]
  },
  {
   "cell_type": "code",
   "execution_count": 53,
   "metadata": {},
   "outputs": [],
   "source": [
    "def gerar_regiao_resultante(valores_eixo_y):\n",
    "    \n",
    "    plt.plot(valores_eixo_y)\n",
    "\n",
    "    plt.xlabel(\"valor\")\n",
    "    plt.ylabel(\"Pertinência\")\n",
    "    plt.title(\"Região resulante\")"
   ]
  },
  {
   "cell_type": "code",
   "execution_count": 54,
   "metadata": {},
   "outputs": [],
   "source": [
    "def defuzzificacao(eixo_x_baixa, eixo_x_media, eixo_x_alta, valores_y):\n",
    "               \n",
    "    #metodo centroide    \n",
    "    valores_numerador = []\n",
    "    valores_denominador = []\n",
    "    \n",
    "    numerador = 0\n",
    "    denominador = 0\n",
    "    \n",
    "    for x in eixo_x_baixa:\n",
    "        if(triangular(x, parametros_funcao_entrada_baixo) <= valores_y[0]):\n",
    "            valores_numerador.append(x*valores_y[0])\n",
    "            valores_denominador.append(valores_y[0])\n",
    "            \n",
    "    for x in eixo_x_media:\n",
    "        if(triangular(x, parametros_funcao_entrada_medio) <= valores_y[1]):\n",
    "            valores_numerador.append(x*valores_y[1])\n",
    "            valores_denominador.append(valores_y[1])\n",
    "    \n",
    "    for x in eixo_x_alta:\n",
    "        if(triangular(x, parametros_funcao_entrada_alto) <= valores_y[2]):\n",
    "            valores_numerador.append(x*valores_y[2])\n",
    "            valores_denominador.append(valores_y[2])\n",
    "\n",
    "    numerador = sum(valores_numerador)\n",
    "    denominador = sum(valores_denominador)\n",
    "        \n",
    "    if(denominador == 0):\n",
    "        return 0\n",
    "        \n",
    "    gerar_regiao_resultante(valores_denominador)\n",
    "        \n",
    "    resultado = numerador/denominador\n",
    "    \n",
    "    return resultado"
   ]
  },
  {
   "cell_type": "code",
   "execution_count": 55,
   "metadata": {},
   "outputs": [],
   "source": [
    "def sistema_fuzzzy():\n",
    "    resultado_inferencia = inferencia(regras_dimensao_video_aulas, valores_de_entrada_questoes_dimensao_video_aulas)\n",
    "    resultado_sistema = defuzzificacao(\n",
    "        valores_eixo_x_variavel_de_saida_funcao_baixo, \n",
    "        valores_eixo_x_variavel_de_saida_funcao_medio, \n",
    "        valores_eixo_x_variavel_de_saida_funcao_alto, resultado_inferencia\n",
    "    )\n",
    "    print(resultado_sistema)\n",
    "    "
   ]
  },
  {
   "cell_type": "code",
   "execution_count": 56,
   "metadata": {},
   "outputs": [
    {
     "name": "stdout",
     "output_type": "stream",
     "text": [
      "11.499500000000687\n"
     ]
    },
    {
     "data": {
      "image/png": "[encoded data removed]",
      "text/plain": [
       "<Figure size 432x288 with 1 Axes>"
      ]
     },
     "metadata": {},
     "output_type": "display_data"
    }
   ],
   "source": [
    "sistema_fuzzzy()"
   ]
  },
  {
   "cell_type": "code",
   "execution_count": null,
   "metadata": {},
   "outputs": [],
   "source": []
  },
  {
   "cell_type": "code",
   "execution_count": null,
   "metadata": {},
   "outputs": [],
   "source": []
  }
 ],
 "metadata": {
  "kernelspec": {
   "display_name": "Python 3",
   "language": "python",
   "name": "python3"
  },
  "language_info": {
   "codemirror_mode": {
    "name": "ipython",
    "version": 3
   },
   "file_extension": ".py",
   "mimetype": "text/x-python",
   "name": "python",
   "nbconvert_exporter": "python",
   "pygments_lexer": "ipython3",
   "version": "3.6.5"
  }
 },
 "nbformat": 4,
 "nbformat_minor": 2
}
